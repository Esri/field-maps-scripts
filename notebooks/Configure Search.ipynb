{
 "cells": [
  {
   "cell_type": "markdown",
   "metadata": {},
   "source": [
    "### Search for assets and observations in ArcGIS Field Maps\n",
    "\n",
    "This notebook demonstrates how you can configure search in the layer of a web maps. The search is then honored in apps, including ArcGIS Field Maps.\n"
   ]
  },
  {
   "cell_type": "markdown",
   "metadata": {},
   "source": [
    "#### Connect to your ArcGIS Online or ArcGIS Enterprise organization"
   ]
  },
  {
   "cell_type": "code",
   "execution_count": null,
   "metadata": {
    "scrolled": true
   },
   "outputs": [],
   "source": [
    "import json\n",
    "\n",
    "from arcgis.gis import GIS\n",
    "from arcgis.mapping import WebMap\n",
    "\n",
    "print('Enter your ArcGIS account user name: ')\n",
    "username = input()\n",
    "gis = GIS('https://www.arcgis.com', username)\n",
    "print('Connected to {}'.format(gis.properties.portalHostname))"
   ]
  },
  {
   "cell_type": "markdown",
   "metadata": {},
   "source": [
    "#### Get the web map\n",
    "\n",
    "Search by ID for the web map where you want to configure layer search. "
   ]
  },
  {
   "cell_type": "code",
   "execution_count": null,
   "metadata": {},
   "outputs": [],
   "source": [
    "\n",
    "# update below with web map id\n",
    "webmap_item_no_search = gis.content.get('<web map item id>')"
   ]
  },
  {
   "cell_type": "markdown",
   "metadata": {},
   "source": [
    "#### Add search to a feature layer\n",
    "\n",
    "If the map already has feature search configured, add another search to it. If not, insert the first feature search."
   ]
  },
  {
   "cell_type": "code",
   "execution_count": null,
   "metadata": {},
   "outputs": [],
   "source": [
    "def add_layer_search(webmap_item, layer_url, field_name, exact_match, esri_field_type):\n",
    "    json_data = webmap_item.get_data()\n",
    "    \n",
    "    # insert placeholder into JSON if not present\n",
    "    if 'applicationProperties' not in json_data:\n",
    "        placeholder_app_properties = {'viewing': {'search': {'enabled': True,'disablePlaceFinder': False,'hintText': 'Place or Address','layers': [],'tables': []}}}\n",
    "        json_data['applicationProperties'] = placeholder_app_properties\n",
    "  \n",
    "    app_properties_viewing = json_data['applicationProperties']['viewing']\n",
    "\n",
    "    # Get the ID of the layer to search, based on the URL you know it has\n",
    "    webmap = WebMap(webmap_item)\n",
    "    layers = webmap.layers\n",
    "    layer_id = None\n",
    "    for layer in layers:\n",
    "        if layer.url == layer_url:\n",
    "            layer_id = layer.id\n",
    "        \n",
    "    if layer_id is None:\n",
    "        print('Layer URL not found: ' + layer_url, end='\\n\\n')\n",
    "        return\n",
    " \n",
    "    if ('search' in app_properties_viewing):\n",
    "        \n",
    "        search_layers_property = app_properties_viewing['search']['layers']\n",
    "        new_layer = {'id': layer_id, 'field': {'name': field_name, 'exactMatch': exact_match, 'type': esri_field_type}}\n",
    "        search_layers_property.append(new_layer)\n",
    "        webmap_item.update(data = json.dumps(json_data))\n",
    "        print(\"Added another search in '\" + webmap_item.title + \"`\", end='\\n\\n')\n",
    "        "
   ]
  },
  {
   "cell_type": "markdown",
   "metadata": {},
   "source": [
    "#### Disable place search\n",
    "\n",
    "If you won't want mobile workers searching for generic places and addresses, disable place search."
   ]
  },
  {
   "cell_type": "code",
   "execution_count": null,
   "metadata": {},
   "outputs": [],
   "source": [
    "def disable_place_search(webmap_item):\n",
    "\n",
    "    json_data = webmap_item.get_data()\n",
    "\n",
    "    # insert placeholder into JSON if not present\n",
    "    if 'applicationProperties' not in json_data:\n",
    "        placeholder_app_properties = {'viewing': {'search': {'enabled': True,'disablePlaceFinder': False,'hintText': 'Place or Address','layers': [],'tables': []}}}\n",
    "        json_data['applicationProperties'] = placeholder_app_properties\n",
    "\n",
    "    app_properties_viewing = json_data['applicationProperties']['viewing']\n",
    "\n",
    "    if ('search' in app_properties_viewing):\n",
    "    \n",
    "        layer_search_property = app_properties_viewing['search']\n",
    "        disable_place_finder = {'disablePlaceFinder': True}\n",
    "        layer_search_property.update(disable_place_finder)\n",
    "        webmap_item.update(data = json.dumps(json_data))\n",
    "        \n",
    "        print(\"Disabled place finder for '\" + webmap_item.title + \"'\")"
   ]
  },
  {
   "cell_type": "markdown",
   "metadata": {},
   "source": [
    "#### Provide hint text\n",
    "\n",
    "Check if it has layer search configured, and if so, provide hint text."
   ]
  },
  {
   "cell_type": "code",
   "execution_count": null,
   "metadata": {},
   "outputs": [],
   "source": [
    "def update_hint_text(webmap_item,new_hint_text):\n",
    "\n",
    "    json_data = webmap_item.get_data()\n",
    "\n",
    "    # insert placeholder into JSON if not present\n",
    "    if 'applicationProperties' not in json_data:\n",
    "        placeholder_app_properties = {'viewing': {'search': {'enabled': True,'disablePlaceFinder': False,'hintText': 'Place or Address','layers': [],'tables': []}}}\n",
    "        json_data['applicationProperties'] = placeholder_app_properties\n",
    "    \n",
    "    app_properties_viewing = json_data['applicationProperties']['viewing']\n",
    "\n",
    "    if ('search' in app_properties_viewing):\n",
    "    \n",
    "        layer_search_property = app_properties_viewing['search']\n",
    "        hint_text_dict = {'hintText': new_hint_text}\n",
    "        layer_search_property.update(hint_text_dict)\n",
    "        webmap_item.update(data = json.dumps(json_data))\n",
    "\n",
    "        print(\"Updated hint text for '\" + webmap_item.title + \"'\")   "
   ]
  },
  {
   "cell_type": "markdown",
   "metadata": {},
   "source": [
    "#### Configure layer and process updates"
   ]
  },
  {
   "cell_type": "code",
   "execution_count": null,
   "metadata": {},
   "outputs": [],
   "source": [
    "webmap_item = webmap_item_no_search\n",
    "\n",
    "# update below with our layer url and field details\n",
    "layer_url = 'https://services.arcgis.com/N4jtru9dctSQR53c/arcgis/rest/services/Hydrant_maintenance/FeatureServer/0'\n",
    "\n",
    "add_layer_search(webmap_item, layer_url, 'Facility Identifier', True, 'esriFieldTypeInteger') #ID\n",
    "add_layer_search(webmap_item, layer_url, 'Creator', False, 'esriFieldTypeString') #Details\n",
    "\n",
    "update_hint_text(webmap_item,\"Search for hydrant...\")\n",
    "disable_place_search(webmap_item)"
   ]
  }
 ],
 "metadata": {
  "kernelspec": {
   "display_name": "Python 3.7.13 ('Arcgis')",
   "language": "python",
   "name": "python3"
  },
  "language_info": {
   "codemirror_mode": {
    "name": "ipython",
    "version": 3
   },
   "file_extension": ".py",
   "mimetype": "text/x-python",
   "name": "python",
   "nbconvert_exporter": "python",
   "pygments_lexer": "ipython3",
   "version": "3.7.13"
  },
  "vscode": {
   "interpreter": {
    "hash": "2f7d5e7f44707441fdf59f9ea9e91257aa419b0f47527e9654c7357783801722"
   }
  }
 },
 "nbformat": 4,
 "nbformat_minor": 2
}
