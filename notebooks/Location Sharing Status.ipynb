{
 "cells": [
  {
   "cell_type": "markdown",
   "metadata": {},
   "source": [
    "## Location Sharing Status\n",
    "\n",
    "A guide showing how to view details of the location sharing capability in your organization\n",
    "\n",
    "This guide assumes that:\n",
    "1. You are an administrator for your organization\n",
    "2. You are using Enterprise 10.7+ or ArcGIS Online"
   ]
  },
  {
   "cell_type": "code",
   "execution_count": null,
   "metadata": {},
   "outputs": [],
   "source": [
    "from arcgis.gis import GIS\n",
    "\n",
    "gis = GIS(\"home\", verfiy_cert=False)\n",
    "lt = gis.admin.location_tracking"
   ]
  },
  {
   "cell_type": "markdown",
   "metadata": {},
   "source": [
    "### The Location Sharing Service"
   ]
  },
  {
   "cell_type": "code",
   "execution_count": null,
   "metadata": {},
   "outputs": [],
   "source": [
    "display(lt.item)"
   ]
  },
  {
   "cell_type": "markdown",
   "metadata": {},
   "source": [
    "### Check Current Status of Location Sharing\n",
    "Let's quickly check to see the status of location sharing for our organization"
   ]
  },
  {
   "cell_type": "code",
   "execution_count": null,
   "metadata": {},
   "outputs": [],
   "source": [
    "print(f\"Status: {lt.status}\")\n",
    "print(f\"Retention period: {lt.retention_period} {lt.retention_period_units} ({'enabled' if lt.retention_period_enabled else 'disabled'})\")"
   ]
  },
  {
   "cell_type": "markdown",
   "metadata": {},
   "source": [
    "### Check Licenses\n",
    "Let's see how many licenses have been assigned.\n",
    "For previous versions of licenses you can check for 'Tracker for ArcGIS'."
   ]
  },
  {
   "cell_type": "code",
   "execution_count": null,
   "metadata": {},
   "outputs": [],
   "source": [
    "#gis.admin.license.get('Tracker for ArcGIS').report\n",
    "gis.admin.license.get('ArcGIS Location Sharing').report"
   ]
  },
  {
   "cell_type": "markdown",
   "metadata": {},
   "source": [
    "### Check Active Users\n",
    "Let's see how many people have actually recorded tracks"
   ]
  },
  {
   "cell_type": "code",
   "execution_count": null,
   "metadata": {},
   "outputs": [],
   "source": [
    "users = lt.tracks_layer.query(group_by_fields_for_statistics=\"created_user\", \n",
    "                              out_statistics=[{\"statisticType\": \"count\", \"onStatisticField\": \"objectid\", \"outStatisticFieldName\": \"count\"}],\n",
    "                              as_df=True)\n",
    "print(f\"Users with tracks: {len(users)}\")"
   ]
  },
  {
   "cell_type": "markdown",
   "metadata": {},
   "source": [
    "Let's see who the top 5 users are (based on how many tracks points they have uploaded)"
   ]
  },
  {
   "cell_type": "code",
   "execution_count": null,
   "metadata": {},
   "outputs": [],
   "source": [
    "users.sort_values(by=['count'], ascending=False).head(5)"
   ]
  },
  {
   "cell_type": "markdown",
   "metadata": {},
   "source": [
    "Let's see who the top 5 users were during the last week"
   ]
  },
  {
   "cell_type": "code",
   "execution_count": null,
   "metadata": {},
   "outputs": [],
   "source": [
    "from datetime import datetime, timedelta\n",
    "d = datetime.utcnow()-timedelta(days=7)\n",
    "users = lt.tracks_layer.query(where=f\"location_timestamp >= timestamp '{d.strftime('%Y-%m-%d %H:%M:%S')}'\",\n",
    "                              group_by_fields_for_statistics=\"created_user\", \n",
    "                              out_statistics=[{\"statisticType\": \"count\", \"onStatisticField\": \"objectid\", \"outStatisticFieldName\": \"count\"}],\n",
    "                              as_df=True)\n",
    "users.sort_values(by=['count'], ascending=False).head(5)"
   ]
  },
  {
   "cell_type": "markdown",
   "metadata": {},
   "source": [
    "### Check total number of tracks\n",
    "Let's see how many track points are available"
   ]
  },
  {
   "cell_type": "code",
   "execution_count": null,
   "metadata": {},
   "outputs": [],
   "source": [
    "count = lt.tracks_layer.query(return_count_only=True)\n",
    "print(f\"Total Tracks: {count:,}\")"
   ]
  },
  {
   "cell_type": "markdown",
   "metadata": {},
   "source": [
    "### Check number of track views\n",
    "Let's see how many track views are in my organization"
   ]
  },
  {
   "cell_type": "code",
   "execution_count": null,
   "metadata": {},
   "outputs": [],
   "source": [
    "items = gis.content.search(\"typekeywords:'Location Tracking View'\", max_items=10)\n",
    "print(f\"Track Views: {len(items) if len(items) < 10 else '10 or more'}\")"
   ]
  }
 ],
 "metadata": {
  "kernelspec": {
   "display_name": "Python 3 (ipykernel)",
   "language": "python",
   "name": "python3"
  },
  "language_info": {
   "codemirror_mode": {
    "name": "ipython",
    "version": 3
   },
   "file_extension": ".py",
   "mimetype": "text/x-python",
   "name": "python",
   "nbconvert_exporter": "python",
   "pygments_lexer": "ipython3",
   "version": "3.9.11"
  }
 },
 "nbformat": 4,
 "nbformat_minor": 2
}
