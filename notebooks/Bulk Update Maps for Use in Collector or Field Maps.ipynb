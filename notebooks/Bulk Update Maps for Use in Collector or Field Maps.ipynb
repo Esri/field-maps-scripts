{
 "cells": [
  {
   "cell_type": "markdown",
   "metadata": {},
   "source": [
    "## Bulk update maps for Use in Collector / Field Maps"
   ]
  },
  {
   "cell_type": "markdown",
   "metadata": {},
   "source": [
    "This notebook allows the user to define a search string for webmaps and set the ability to \"Use in Field Maps\" and/or \"Use in Collector\". It will first search for maps based on a string you define, confirm these are the maps you'd like to update, and then update each for Collector / Field Maps use based on parameters you define. Additionally, this notebook can be imported in ArcGIS Online and used as a hosted notebook."
   ]
  },
  {
   "cell_type": "code",
   "execution_count": null,
   "metadata": {},
   "outputs": [],
   "source": [
    "from arcgis.gis import GIS\n",
    "from arcgis.mapping import WebMap\n",
    "gis = GIS(\"home\")\n",
    "# gis = GIS(\"https://arcgis.com\",\"<insert_user_here>\", verify_cert=False) "
   ]
  },
  {
   "cell_type": "markdown",
   "metadata": {},
   "source": [
    "### Please set the parameters below. Example parameters have been set for this notebook. Note that we will only search for maps we own\n",
    "\n",
    "In this example query, we'll disable in Field Maps all webmaps that are currently not enabled for Collector. This will prevent field workers from accidentally using the wrong map!\n",
    "\n",
    "For more on writing this search query, please see: https://doc.arcgis.com/en/arcgis-online/reference/advanced-search.htm"
   ]
  },
  {
   "cell_type": "code",
   "execution_count": null,
   "metadata": {},
   "outputs": [],
   "source": [
    "# this takes \"enabled\", \"disabled\", or \"no_change\"\n",
    "field_maps_usage = \"enabled\"\n",
    "collector_usage = \"no_change\"\n",
    "webmap_search_query = \"Hydrant NOT typekeywords: 'Collector' OR typekeywords: 'CollectorDisabled'\"\n",
    "\n",
    "# Example query which would only update maps currently enabled for Collector\n",
    "# webmap_search_query = \"title:Hydrant AND typekeywords:'Collector'\"\n",
    "\n",
    "# Example query which would update maps currently enabled for Field Maps\n",
    "# webmap_search_query = \"title:Hydrant AND NOT typekeywords:'FieldMapsDisabled'\"\n",
    "\n",
    "valid_entries = [\"enabled\", \"disabled\", \"no_change\"]\n",
    "if not field_maps_usage in valid_entries or not collector_usage in valid_entries:\n",
    "    raise Exception(\"Check your usage parameters are set correctly\")"
   ]
  },
  {
   "cell_type": "markdown",
   "metadata": {},
   "source": [
    "### Now, let's search for the webmaps that we're going to update"
   ]
  },
  {
   "cell_type": "code",
   "execution_count": null,
   "metadata": {},
   "outputs": [],
   "source": [
    "webmap_search_query = webmap_search_query + f\" AND owner:{gis.users.me.username}\"\n",
    "webmaps = gis.content.search(webmap_search_query, item_type='Web Map', max_items=1000, outside_org=False)\n",
    "print(\"Webmaps that will be changed: \")\n",
    "for wm in webmaps:\n",
    "    display(wm)\n",
    "print(\"\\n\")\n",
    "if len(webmaps) > 0:\n",
    "        yn = (input(str(len(webmaps)) + ' web maps found. Are you sure you want to work on all these web maps? (y/N): ') or 'n').lower().strip()\n",
    "        sure = yn in ['yes', 'y', 'ye']\n",
    "else:\n",
    "    raise Exception(\"No items found with query:\", webmap_search_query)"
   ]
  },
  {
   "cell_type": "markdown",
   "metadata": {},
   "source": [
    "### If you want to continue, we'll now update the keywords needed to use Collector and Field Maps\n",
    "\n",
    "Note here that we update the map once - once by calling `update()` on the item and once by calling `update()` on the WebMap. The second update call exists to scrub out keywords. So it's possible that your keywords are unchanged despite the modified date of the webmap changing."
   ]
  },
  {
   "cell_type": "code",
   "execution_count": null,
   "metadata": {},
   "outputs": [],
   "source": [
    "if not sure:\n",
    "    raise Exception(\"Script terminated. Please check your search string again\")\n",
    "else:\n",
    "    for wm_item in webmaps:\n",
    "        print(\"Checking whether to update webmap for Field Maps and Collector: \" + wm_item.title)\n",
    "        current_keywords = set(wm_item.typeKeywords)\n",
    "        if field_maps_usage == \"enabled\":\n",
    "            current_keywords.discard(\"FieldMapsDisabled\")\n",
    "        elif field_maps_usage == \"disabled\":\n",
    "            current_keywords.add(\"FieldMapsDisabled\")\n",
    "\n",
    "        if collector_usage == \"enabled\":\n",
    "            current_keywords.discard(\"CollectorDisabled\")\n",
    "        elif collector_usage == \"disabled\":\n",
    "            current_keywords.discard(\"Collector\")\n",
    "            current_keywords.add(\"CollectorDisabled\")\n",
    "\n",
    "        if sorted(list(current_keywords)) != sorted(wm_item.typeKeywords):\n",
    "            print(\"New keyword added for \" + wm_item.title + \". Updating webmap\")\n",
    "            try:\n",
    "                wm_item.update(item_properties={\"typeKeywords\": list(current_keywords)})\n",
    "            except Exception as e:\n",
    "                print(e)\n",
    "            wm = WebMap(wm_item)\n",
    "            # remove bad Collector typekeywords\n",
    "            wm.update()\n",
    "        else:\n",
    "            print(\"Skipped updating webmap for \" + wm_item.title)\n",
    "        print(\"\\n\")\n",
    "            \n",
    "print(\"Done!\")"
   ]
  }
 ],
 "metadata": {
  "kernelspec": {
   "display_name": "Python 3",
   "language": "python",
   "name": "python3"
  },
  "language_info": {
   "codemirror_mode": {
    "name": "ipython",
    "version": 3
   },
   "file_extension": ".py",
   "mimetype": "text/x-python",
   "name": "python",
   "nbconvert_exporter": "python",
   "pygments_lexer": "ipython3",
   "version": "3.8.2"
  }
 },
 "nbformat": 4,
 "nbformat_minor": 4
}
