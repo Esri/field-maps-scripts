{
 "cells": [
  {
   "cell_type": "markdown",
   "metadata": {},
   "source": [
    "# Field Apps Deployment using Python"
   ]
  },
  {
   "cell_type": "markdown",
   "metadata": {},
   "source": [
    "<img src=\"https://www.esri.com/content/dam/esrisites/en-us/common/icons/product-logos/arcgis-field-maps-220.png\" width=\"100\">\n",
    "\n",
    "#### Getting your ArcGIS Field Maps workers set up for an event can be a time-consuming and mistake-ridden process. In this demo, we're going to show how you can utilize the ArcGIS API for Python to improve the speed and accuracy of setup for three different forms of data collection:\n",
    "\n",
    "Note: this requires the ArcGIS API for Python 2.4.0 (released Oct 2024). Much of this notebook also requires having admin privileges in your organization. This notebook was originally created as part of DevSummit 2021.\n",
    "\n",
    "\n",
    "1. Location Tracking (Enable LTS, Create Track View, Assign Licenses)\n",
    "2. Forms data collection (Create Map, Create Form, Copy Form Between Maps, QR code generation)\n",
    "3. Workforce coordination (Create a Project, Create Assignment Types, Add Workers, Add Assignments)\n",
    "\n"
   ]
  },
  {
   "cell_type": "markdown",
   "metadata": {},
   "source": [
    "## Location Tracking\n",
    "\n",
    "Location tracking is a feature that enables organizations to capture the tracks of field staff, monitor where they are, and analyze where they have been. Patterns derived from location tracks give decision-makers information to support critical field activities.\n",
    "\n",
    "Tracks can be collected either via ArcGIS Field Maps or ArcGIS Tracker if your organization has purchased ArcGIS Tracker licenses and field workers have been assigned those licenses. Since setting up licenses and track views for a group of workers may be a time-consuming task, let's use the ArcGIS API for Python `arcgis.apps.tracker` [module](https://developers.arcgis.com/python/api-reference/arcgis.apps.tracker.html) to speed up this workflow!\n",
    "\n",
    "In order to start location tracking, let's make sure it's enabled at an organizational level for my org."
   ]
  },
  {
   "cell_type": "code",
   "execution_count": null,
   "metadata": {},
   "outputs": [],
   "source": [
    "# Enable Location Tracking\n",
    "\n",
    "import arcgis\n",
    "from arcgis.map import Map\n",
    "from arcgis.map.forms import FormGroupElement\n",
    "from arcgis.map.forms import FormFieldElement\n",
    "from arcgis.map.forms import FormTextBoxInput\n",
    "from arcgis.map.forms import FormInfo\n",
    "from arcgis.features import FeatureLayer\n",
    "from arcgis.layers import Service\n",
    "\n",
    "gis = arcgis.gis.GIS(\"<org_url>\", \"<insert_user_here>\", verify_cert=False)\n",
    "status = gis.admin.location_tracking.status\n",
    "print(\"Location Tracking Status: \" + status)\n",
    "print(\"Enabling\")\n",
    "if status == \"disabled\":\n",
    "    gis.admin.location_tracking.enable()\n",
    "print(\"New Location Tracking Status: \" + gis.admin.location_tracking.status)"
   ]
  },
  {
   "cell_type": "markdown",
   "metadata": {},
   "source": [
    "#### Assign ArcGIS Tracker licenses\n",
    "\n",
    "In order to activate tracking in ArcGIS Tracker or Field Maps, ArcGIS Tracker licenses must be assigned to workers. This can be a time consuming process, but it's quite simple in Python."
   ]
  },
  {
   "cell_type": "code",
   "execution_count": null,
   "metadata": {},
   "outputs": [],
   "source": [
    "# Assign Tracker licenses to group users\n",
    "\n",
    "group = gis.groups.search(\"workers\")[0]\n",
    "print(group)\n",
    "members = group.get_members()\n",
    "print(members)\n",
    "print(\"\\n\")\n",
    "tracker_license = gis.admin.license.get(\"arcgis tracker\")\n",
    "for user in members[\"users\"]:\n",
    "    tracker_license.assign(user, [\"tracker\"])\n",
    "print(\"Assigned!\")"
   ]
  },
  {
   "cell_type": "markdown",
   "metadata": {},
   "source": [
    "#### Now, let's pull all of our users into a track view - that will make visualizing tracks through ArcGIS Track Viewer much simpler\n",
    "\n",
    "To make a track view, we can also utilize the `tracker` [module](https://developers.arcgis.com/python/api-reference/arcgis.apps.tracker.html) here."
   ]
  },
  {
   "cell_type": "code",
   "execution_count": null,
   "metadata": {},
   "outputs": [],
   "source": [
    "# Add Tracker users from same group to new track view as mobile users\n",
    "\n",
    "track_view = gis.admin.location_tracking.create_track_view(\"workers_view\")\n",
    "track_view.mobile_users.add(members[\"users\"])\n",
    "print(\"Number of users in track view: \" + str(len(track_view.mobile_users.list())))"
   ]
  },
  {
   "cell_type": "markdown",
   "metadata": {},
   "source": [
    "#### Finally, let's generate an easy QR code using the Python QRCode library that my field workers can scan in order to login and begin tracking\n",
    "\n",
    "Scanning this and logging into Field Maps will turn on tracking for a 10 hour duration. For more on our app linking parameters, our documentation can be found [here](https://doc.arcgis.com/en/field-maps/android/help/deploy-your-map.htm). For more location tracking usecases, please visit our Tracker Github [repository](https://github.com/Esri/tracker-scripts)"
   ]
  },
  {
   "cell_type": "code",
   "execution_count": null,
   "metadata": {},
   "outputs": [],
   "source": [
    "import qrcode\n",
    "\n",
    "begin_tracking_url = \"https://fieldmaps.arcgis.app/?referenceContext=track&trackingOn=true&trackingDuration=10\"\n",
    "img = qrcode.make(begin_tracking_url)\n",
    "img"
   ]
  },
  {
   "cell_type": "markdown",
   "metadata": {},
   "source": [
    "## Forms Data Collection\n",
    "\n",
    "Smart forms are the new way to edit non-spatial information about GIS features in ArcGIS Field Maps. Forms are built upon existing, published web feature layers and the form you create is stored in your map. Smart forms allow much more customization of the data collection experience compared to older workflows.\n",
    "\n",
    "While most users will create their smart forms using the ArcGIS Field Maps web app, there may be situations where a GIS administrator needs to batch create a variety of forms in an efficient manner. In this instance, the `arcgis.map.forms.FormInfo` and `arcgis.map.map_widget.MapContent`(being released at ArcGIS API for Python version 2.4.0) is a great tool for you.\n",
    "\n",
    "In this particular example, I'll create a smart form for a publicly available emergency shelters layer. Notice how I create my own form for a layer I do not own, since the form information resides in my webmap rather than their layer."
   ]
  },
  {
   "cell_type": "code",
   "execution_count": null,
   "metadata": {},
   "outputs": [],
   "source": [
    "# Create Map with new feature layer\n",
    "wm = gis.map()\n",
    "wm.basemap.basemap = \"arcgis-streets\"\n",
    "wm.center = [41.75, -88]\n",
    "wm.zoom = 10\n",
    "wm"
   ]
  },
  {
   "cell_type": "code",
   "execution_count": null,
   "metadata": {},
   "outputs": [],
   "source": [
    "item_properties = {\n",
    "    \"title\": \"Shelters Form Map\",\n",
    "    \"snippet\": \"Map for shelters\",\n",
    "    \"tags\": [\"shelters\"],\n",
    "}\n",
    "wm = wm.save(item_properties)\n",
    "newwm = Map(item=wm)\n",
    "newwm.content.add(\n",
    "    FeatureLayer(\n",
    "        \"https://sampleserver6.arcgisonline.com/arcgis/rest/services/NapervilleShelters/FeatureServer/0\"\n",
    "    ),\n",
    ")\n",
    "newwm.update()"
   ]
  },
  {
   "cell_type": "code",
   "execution_count": null,
   "metadata": {},
   "outputs": [],
   "source": [
    "field_elements = [\n",
    "    FormFieldElement(\n",
    "        field_name=\"facilityid\",\n",
    "        input_type=FormTextBoxInput(),\n",
    "        label=\"Facility ID\",\n",
    "        editable_expression=\"expr/system/true\",\n",
    "    ),\n",
    "    FormFieldElement(\n",
    "        field_name=\"jurisdict\",\n",
    "        input_type=FormTextBoxInput(),\n",
    "        label=\"New Jursdiction\",\n",
    "        editable_expression=\"expr/system/true\",\n",
    "    ),\n",
    "]\n",
    "\n",
    "form_info = FormInfo(title=\"Shelters Layer\", form_elements=field_elements)\n",
    "newwm.content.update_layer(0, form=form_info)\n",
    "newwm.content.form(0)\n",
    "newwm.update()\n",
    "\n",
    "print(newwm.content.form(0))"
   ]
  },
  {
   "cell_type": "markdown",
   "metadata": {},
   "source": [
    "### We can easily populate a form using the `FormFieldElements`, `FormGroupElement` and `FormInfo` classes - this allows us to bypass the web application and perform all operations in Python\n",
    "\n",
    "I can do the same sorts of actions present in the Field Maps web app - adding groups, changing form properties, and add the same types of conditional visibility expressions to ensure the form element \"New Jurisdiction\" only shows up if \"Facility ID\" is equal to a certain value"
   ]
  },
  {
   "cell_type": "code",
   "execution_count": 10,
   "metadata": {},
   "outputs": [],
   "source": [
    "field_elements = [\n",
    "    FormFieldElement(\n",
    "        field_name=\"pocname\",\n",
    "        input_type=FormTextBoxInput(),\n",
    "        label=\"Contact Name\",\n",
    "        editable_expression=\"expr/system/true\",\n",
    "    ),\n",
    "    FormFieldElement(\n",
    "        field_name=\"pocemail\",\n",
    "        input_type=FormTextBoxInput(),\n",
    "        label=\"Contact Email\",\n",
    "        editable_expression=\"expr/system/true\",\n",
    "    ),\n",
    "]"
   ]
  },
  {
   "cell_type": "code",
   "execution_count": 11,
   "metadata": {},
   "outputs": [],
   "source": [
    "group_element = [\n",
    "    FormGroupElement(\n",
    "        title=\"Contact Information\",\n",
    "        label=\"Contact Information\",\n",
    "        initial_state=\"expanded\",\n",
    "        form_elements=field_elements,\n",
    "        visibility_expression=\"$feature.facilityid == '1'\",\n",
    "    )\n",
    "]"
   ]
  },
  {
   "cell_type": "code",
   "execution_count": null,
   "metadata": {},
   "outputs": [],
   "source": [
    "form_info = FormInfo(title=\"Contact Info\", form_elements=group_element)\n",
    "newwm.content.update_layer(0, form=form_info)\n",
    "newwm.content.form(0)\n",
    "newwm.update()\n",
    "print(newwm.content.form(0))"
   ]
  },
  {
   "cell_type": "markdown",
   "metadata": {},
   "source": [
    "### Batch operations with forms\n",
    "\n",
    "We could use this Python module to perform batch operations with forms that may be slower in the web application. For example, let's say I now want to use this same form in a different map that uses the same operational layer. This is relatively easily when given the forms module!\n",
    "\n",
    "For more on what you can accomplish with the forms module, please visit our [documentation](https://developers.arcgis.com/python/api-reference/arcgis.mapping.forms.html)"
   ]
  },
  {
   "cell_type": "code",
   "execution_count": null,
   "metadata": {},
   "outputs": [],
   "source": [
    "wm2 = arcgis.map.Map(gis.content.get(\"ae8b773ff6474e5993ed49e3e798e3d4\"))\n",
    "print(wm2.content.form(0))"
   ]
  },
  {
   "cell_type": "code",
   "execution_count": null,
   "metadata": {},
   "outputs": [],
   "source": [
    "new_form = wm2.content.form(0)\n",
    "new_form = form_info\n",
    "print(new_form)\n",
    "wm2.update()"
   ]
  },
  {
   "cell_type": "markdown",
   "metadata": {},
   "source": [
    "## Workforce Coordination\n",
    "\n",
    "ArcGIS Workforce is a mobile solution that uses the power of location-based decision making for better mobile workforce coordination and teamwork. It's composed of a web app used by project administrators and dispatchers in the office, and a mobile app used by mobile workers on their devices.\n",
    "\n",
    "Users may want to utilize the ArcGIS API for Python `workforce` module to automate tasks. Automation is especially useful when managing Workforce projects that contain a large number of workers and assignments. Import workers from a CSV file, assign work, create a dashboard, delete assignments, reset worker status, and more with ArcGIS API for Python.\n",
    "\n",
    "Note here that you can use the Python API to create your \"classic\" Workforce projects which work with the older version of the Workforce mobile application."
   ]
  },
  {
   "cell_type": "code",
   "execution_count": 10,
   "metadata": {},
   "outputs": [
    {
     "name": "stdout",
     "output_type": "stream",
     "text": [
      "new_project\n",
      "old_project\n"
     ]
    }
   ],
   "source": [
    "# create new project, create \"classic\" workforce project\n",
    "\n",
    "new_proj = arcgis.apps.workforce.create_project(\"new_project\", major_version=2)\n",
    "old_proj = arcgis.apps.workforce.create_project(\"old_project\", major_version=1)\n",
    "print(new_proj)\n",
    "print(old_proj)"
   ]
  },
  {
   "cell_type": "markdown",
   "metadata": {},
   "source": [
    "#### Project Setup\n",
    "\n",
    "Now that we've got our project, we're ready to get it setup for automation! Workforce projects require both assignment types to categorize your assignments and workers to send assignments. Using the group we already have from earlier in the demo, let's get our workers into the project and ready to work."
   ]
  },
  {
   "cell_type": "code",
   "execution_count": null,
   "metadata": {},
   "outputs": [
    {
     "name": "stdout",
     "output_type": "stream",
     "text": [
      "Adding assignment types and workers\n",
      "Assignment types and workers added\n"
     ]
    }
   ],
   "source": [
    "print(\"Adding assignment types and workers\")\n",
    "at = new_proj.assignment_types.add(name=\"Demolition\")\n",
    "for user in members[\"users\"]:\n",
    "    new_proj.workers.add(user_id=user, name=user)\n",
    "print(\"Assignment types and workers added\")"
   ]
  },
  {
   "cell_type": "code",
   "execution_count": null,
   "metadata": {},
   "outputs": [
    {
     "data": {
      "text/plain": [
       "<Assignment 1>"
      ]
     },
     "execution_count": 12,
     "metadata": {},
     "output_type": "execute_result"
    }
   ],
   "source": [
    "# Add an assignment\n",
    "\n",
    "new_proj.assignments.add(\n",
    "    assignment_type=at,\n",
    "    location=\"100 Commercial St\",\n",
    "    geometry={\"x\": -7820308, \"y\": 5412450},\n",
    "    status=0,\n",
    "    description=\"hello\",\n",
    ")"
   ]
  },
  {
   "cell_type": "markdown",
   "metadata": {},
   "source": [
    "### Resources\n",
    "\n",
    "This is just a brief introduction into what is possible with task and data management using the ArcGIS API for Python. We have lots of examples available to learn how to write your own scripts and customize these notebooks as you see fit. Here's a non-comprehensive list of resources available:\n",
    "\n",
    "- [ArcGIS API for Python homepage](https://developers.arcgis.com/python/)\n",
    "- [API documentation](https://developers.arcgis.com/python/api-reference/)\n",
    "- [Workforce Scripts](https://github.com/Esri/workforce-scripts)\n",
    "- [Tracker Scripts](https://github.com/Esri/tracker-scripts)\n",
    "- [Automating Workforce with Python Blog](https://www.esri.com/arcgis-blog/products/workforce/field-mobility/automate-workforce-with-arcgis-api-for-python/)\n"
   ]
  }
 ],
 "metadata": {
  "kernelspec": {
   "display_name": "arcgis_python_2.4.0",
   "language": "python",
   "name": "python3"
  },
  "language_info": {
   "codemirror_mode": {
    "name": "ipython",
    "version": 3
   },
   "file_extension": ".py",
   "mimetype": "text/x-python",
   "name": "python",
   "nbconvert_exporter": "python",
   "pygments_lexer": "ipython3",
   "version": "3.10.15"
  }
 },
 "nbformat": 4,
 "nbformat_minor": 4
}
