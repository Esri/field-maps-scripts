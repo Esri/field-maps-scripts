{
 "cells": [
  {
   "cell_type": "markdown",
   "metadata": {},
   "source": [
    "## This notebook will configure your ArcGIS Enterprise portal to allow connections from ArcGIS Field Maps mobile app (iOS, Android)\n",
    "\n",
    "### Notes\n",
    "- If you are running ArcGIS Enterprise 10.8.1 or higher this step is not needed\n",
    "- ArcGIS Field Maps will not connect to ArcGIS Enterprise portals older than 10.6.1\n",
    "\n",
    "### Steps\n",
    "1. Update parameters for your portal\n",
    "  1. Built-in or SAML authentication\n",
    "    - portalURL\n",
    "    - adminUser\n",
    "  2. PKI\n",
    "    - portalURL\n",
    "    - certificateFile\n",
    "2. Ensure connection method is uncommented based on your authentication\n",
    "3. Run notebook\n",
    "4. Verify connection by authenticating in ArcGIS Field Maps mobile app"
   ]
  },
  {
   "cell_type": "markdown",
   "metadata": {},
   "source": [
    "### Configure parameters"
   ]
  },
  {
   "cell_type": "code",
   "execution_count": null,
   "metadata": {},
   "outputs": [],
   "source": [
    "from arcgis.gis import GIS\n",
    "\n",
    "# Update variables for your portal\n",
    "portal_url = \"https://<server>/portal\"\n",
    "admin_user = \"adminUser\"\n",
    "certificate_file = r\"C:\\Data\\Certificates\\PKI Certs\\creator.pfx\"\n",
    "\n",
    "# Uncomment appropriate method below\n",
    "\n",
    "# Portal - built-in or SAML\n",
    "target_org = GIS(portal_url, admin_user, verify_cert=False)\n",
    "\n",
    "# Portal - PKI\n",
    "# target_org = GIS(portal_url, cert_file=certificate_file, password=getpass())"
   ]
  },
  {
   "cell_type": "markdown",
   "metadata": {},
   "source": [
    "### Update portal"
   ]
  },
  {
   "cell_type": "code",
   "execution_count": null,
   "metadata": {},
   "outputs": [],
   "source": [
    "app_properties = {'type': 'Application','title': 'Field Maps','tags': 'fieldmaps'}\n",
    "\n",
    "# Add new application item\n",
    "fm_application_item = target_org.content.add(item_properties=app_properties)\n",
    "\n",
    "# Add delete protection to new item\n",
    "fm_application_item.protect(True)\n",
    "\n",
    "# Register new application\n",
    "fm_application_item.register(\"multiple\", [\"urn:ietf:wg:oauth:2.0:oob\",\"arcgis-fieldmaps://auth/\", \"arcgis-fieldmaps-beta://auth/\"])\n",
    "\n",
    "# Obtain app info\n",
    "app_info_dict = fm_application_item.app_info\n",
    "\n",
    "# Get current client ID\n",
    "client_id = app_info_dict['client_id']\n",
    "\n",
    "# Update to fieldmaps client ID\n",
    "target_org.admin.security.oauth.update(client_id, \"fieldmaps\")"
   ]
  }
 ],
 "metadata": {
  "kernelspec": {
   "display_name": "Python 3",
   "language": "python",
   "name": "python3"
  },
  "language_info": {
   "codemirror_mode": {
    "name": "ipython",
    "version": 3
   },
   "file_extension": ".py",
   "mimetype": "text/x-python",
   "name": "python",
   "nbconvert_exporter": "python",
   "pygments_lexer": "ipython3",
   "version": "3.8.1"
  }
 },
 "nbformat": 4,
 "nbformat_minor": 2
}
