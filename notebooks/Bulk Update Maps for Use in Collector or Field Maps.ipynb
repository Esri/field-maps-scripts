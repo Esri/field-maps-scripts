{
 "cells": [
  {
   "cell_type": "markdown",
   "metadata": {},
   "source": [
    "## Bulk update maps for Use in Collector / Field Maps"
   ]
  },
  {
   "cell_type": "markdown",
   "metadata": {},
   "source": [
    "This notebook allows the user to define a search string for webmaps and set the ability to \"Use in Field Maps\" and/or \"Use in Field Maps\". It will first search for maps based on a string you define, confirm these are the maps you'd like to update, and then update each for Collector / FieldMaps use based on parameters you define. Additionally, this notebook can be imported in ArcGIS Online and used as a hosted notebook."
   ]
  },
  {
   "cell_type": "code",
   "execution_count": 1,
   "metadata": {},
   "outputs": [
    {
     "name": "stdout",
     "output_type": "stream",
     "text": [
      "Enter password: ········\n"
     ]
    }
   ],
   "source": [
    "from arcgis.gis import GIS\n",
    "gis = GIS(\"home\")\n",
    "# could also try: gis = GIS(\"https://arcgis.com\",\"<username>\", verify_cert=False) "
   ]
  },
  {
   "cell_type": "markdown",
   "metadata": {},
   "source": [
    "### Please set the parameters below. Example parameters have been set for this notebook.\n",
    "\n",
    "In this example query, we'll disable in Field Maps all webmaps that are currently not enabled for Collector. This will prevent field workers from accidentally using the wrong map!"
   ]
  },
  {
   "cell_type": "code",
   "execution_count": 2,
   "metadata": {},
   "outputs": [],
   "source": [
    "# this takes \"enabled\", \"disabled\", or \"no_change\"\n",
    "field_maps_usage = \"disabled\"\n",
    "collector_usage = \"no_change\"\n",
    "webmap_search_query = \"Hydrant NOT typekeywords: 'Collector' OR typekeywords: 'CollectorDisabled'\"\n",
    "\n",
    "# Example query which would only update maps currently enabled for Collector\n",
    "# webmap_search_query = \"title:Hydrant AND typekeyword:'Collector'\"\n",
    "\n",
    "# Example query which would update maps currently enabled for Field Maps\n",
    "# webmap_search_query = \"title:Hydrant AND NOT typekeyword:'FieldMapsDisabled'\"\n",
    "\n",
    "valid_entries = [\"enabled\", \"disabled\", \"no_change\"]\n",
    "if not field_maps_usage in valid_entries or not collector_usage in valid_entries:\n",
    "    raise Exception(\"Check your usage parameters are set correctly\")"
   ]
  },
  {
   "cell_type": "markdown",
   "metadata": {},
   "source": [
    "### Now, let's search for the webmaps that we're going to update"
   ]
  },
  {
   "cell_type": "code",
   "execution_count": 3,
   "metadata": {},
   "outputs": [
    {
     "name": "stdout",
     "output_type": "stream",
     "text": [
      "[<Item title:\"Hydrant Inspections\" type:Web Map owner:workforce_scripts>, <Item title:\"Hydrant Inspections_dispatchers\" type:Web Map owner:workforce_scripts>, <Item title:\"Hydrant Inspection\" type:Web Map owner:workforce_scripts>, <Item title:\"Hydrant Inspections_workers\" type:Web Map owner:workforce_scripts>]\n",
      "\n",
      "\n",
      "4 web maps found. Are you sure you want to work on all these web maps? (y/N): y\n"
     ]
    }
   ],
   "source": [
    "webmap_search_query = webmap_search_query + f\" AND owner:{gis.users.me.username}\"\n",
    "webmaps = gis.content.search(webmap_search_query, item_type='Web Map', max_items=1000, outside_org=False)\n",
    "print(webmaps)\n",
    "print(\"\\n\")\n",
    "if len(webmaps) > 0:\n",
    "        yn = (input(str(len(webmaps)) + ' web maps found. Are you sure you want to work on all these web maps? (y/N): ') or 'n').lower().strip()\n",
    "        sure = yn in ['yes', 'y', 'ye']\n",
    "else:\n",
    "    raise Exception(\"No items found with query:\", webmap_search_query)"
   ]
  },
  {
   "cell_type": "markdown",
   "metadata": {},
   "source": [
    "### If you want to continue, we'll now update the keywords needed to use Collector and Field Maps"
   ]
  },
  {
   "cell_type": "code",
   "execution_count": 4,
   "metadata": {},
   "outputs": [
    {
     "name": "stdout",
     "output_type": "stream",
     "text": [
      "Checking whether to update webmap for Field Maps: Hydrant Inspections\n",
      "New keyword added for Hydrant Inspections. Updating webmap\n",
      "\n",
      "\n",
      "Checking whether to update webmap for Field Maps: Hydrant Inspections_dispatchers\n",
      "New keyword added for Hydrant Inspections_dispatchers. Updating webmap\n",
      "\n",
      "\n",
      "Checking whether to update webmap for Field Maps: Hydrant Inspection\n",
      "New keyword added for Hydrant Inspection. Updating webmap\n",
      "\n",
      "\n",
      "Checking whether to update webmap for Field Maps: Hydrant Inspections_workers\n",
      "New keyword added for Hydrant Inspections_workers. Updating webmap\n",
      "\n",
      "\n",
      "Done!\n"
     ]
    }
   ],
   "source": [
    "if not sure:\n",
    "    raise Exception(\"Script terminated. Please check your search string again\")\n",
    "else:\n",
    "    for wm in webmaps:\n",
    "        print(\"Checking whether to update webmap for Field Maps and Collector: \" + wm.title)\n",
    "        current_keywords = set(wm.typeKeywords)\n",
    "        \n",
    "        if field_maps_usage == \"enabled\":\n",
    "            current_keywords.discard(\"FieldMapsDisabled\")\n",
    "        elif field_maps_usage == \"disabled\":\n",
    "            current_keywords.add(\"FieldMapsDisabled\")\n",
    "\n",
    "        if collector_usage == \"enabled\":\n",
    "            current_keywords.discard(\"CollectorDisabled\")\n",
    "            current_keywords.add(\"Collector\")\n",
    "        elif collector_usage == \"disabled\":\n",
    "            current_keywords.discard(\"Collector\")\n",
    "            current_keywords.add(\"CollectorDisabled\")\n",
    "\n",
    "        if sorted(list(current_keywords)) != sorted(wm.typeKeywords):\n",
    "            print(\"New keyword added for \" + wm.title + \". Updating webmap\")\n",
    "            try:\n",
    "                wm.update(item_properties={\"typeKeywords\": list(current_keywords)})\n",
    "            except Exception as e:\n",
    "                print(e)\n",
    "        else:\n",
    "            print(\"Skipped updating webmap for \" + wm.title)\n",
    "        print(\"\\n\")\n",
    "            \n",
    "print(\"Done!\")"
   ]
  }
 ],
 "metadata": {
  "kernelspec": {
   "display_name": "Python 3",
   "language": "python",
   "name": "python3"
  },
  "language_info": {
   "codemirror_mode": {
    "name": "ipython",
    "version": 3
   },
   "file_extension": ".py",
   "mimetype": "text/x-python",
   "name": "python",
   "nbconvert_exporter": "python",
   "pygments_lexer": "ipython3",
   "version": "3.8.2"
  }
 },
 "nbformat": 4,
 "nbformat_minor": 4
}
