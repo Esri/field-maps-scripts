{
 "cells": [
  {
   "cell_type": "markdown",
   "metadata": {},
   "source": [
    "### Introduction\n",
    "\n",
    "This notebook is designed to help you determine if your map can be taken offline. It performs comprehensive checks on your layers, basemaps, and map properties to ensure that offline capabilities can be enabled. By using this notebook, you can identify specific issues and understand the logic behind each check. \n",
    "\n",
    "Enterprise users will find this notebook helpful since we introduced new offline checks for ArcGIS Online users in July 2024. Since Enterprise environments don't automatically receive AGOL updates, this notebook enables Enterprise users to implement equivalent validation flags, ensuring consistency with AGOL standards.\n",
    "\n",
    "This process assumes that you have publishing and editing privileges for the map and that you are using either Enterprise 10.7+ or ArcGIS Online. This notebook uses python version 2.3.0.3\n",
    "\n",
    "For further information, please refer to the official documentation: https://doc.arcgis.com/en/field-maps/latest/prepare-maps/configure-the-map.htm#ESRI_SECTION2_9DB2938BE8A749E393BBE43A3219E369\n"
   ]
  },
  {
   "cell_type": "markdown",
   "metadata": {},
   "source": [
    "#### Import arcgis libraries"
   ]
  },
  {
   "cell_type": "code",
   "execution_count": 14,
   "metadata": {},
   "outputs": [],
   "source": [
    "from arcgis import GIS\n",
    "from arcgis.mapping import WebMap\n",
    "from arcgis.features import FeatureLayerCollection\n",
    "from arcgis.features import FeatureLayer\n",
    "from arcgis.mapping import MapServiceLayer\n",
    "from arcgis.mapping import VectorTileLayer"
   ]
  },
  {
   "cell_type": "markdown",
   "metadata": {},
   "source": [
    "#### Access your GIS Account -ArcGIS Online\n",
    "After you run this cell, you will be prompted for your user name and password. "
   ]
  },
  {
   "cell_type": "code",
   "execution_count": null,
   "metadata": {},
   "outputs": [],
   "source": [
    "# gis = GIS(\"home\")\n",
    "print(\"Enter your ArcGIS account user name: \")\n",
    "username = input()\n",
    "gis = GIS(\"agol_url\", username)\n",
    "print(\"Connected to {}\".format(gis.properties.portalHostname))"
   ]
  },
  {
   "cell_type": "markdown",
   "metadata": {},
   "source": [
    "#### Access your GIS Account -ArcGIS Enterprise\n",
    "If you are using an enterprise account use the cell below to initialize this notebook. Just add in your portal url."
   ]
  },
  {
   "cell_type": "code",
   "execution_count": 16,
   "metadata": {},
   "outputs": [],
   "source": [
    "# enterprise_url = \"\"\n",
    "# print('Enter your ArcGIS account user name: ')\n",
    "# username = input()\n",
    "# gis = GIS(enterprise_url, username)\n",
    "# print('Connected to {}'.format(gis.properties.portalHostname))"
   ]
  },
  {
   "cell_type": "markdown",
   "metadata": {},
   "source": [
    "#### Add in your Map\n",
    "In the `map_item_id_to_check` variable below there is an example map id. Please delete this and add in the id of your map you would like to check for offline compatibility"
   ]
  },
  {
   "cell_type": "code",
   "execution_count": 17,
   "metadata": {},
   "outputs": [],
   "source": [
    "MAP_ITEM_ID_TO_CHECK = \"YOUR MAP ID\"\n",
    "offline_map = gis.content.get(MAP_ITEM_ID_TO_CHECK)"
   ]
  },
  {
   "cell_type": "markdown",
   "metadata": {},
   "source": [
    "#### Checking Basemaps for Offline Use\n",
    "In this step, we will perform essential checks to ensure that basemaps are suitable for offline use. We will evaluate four key aspects:\n",
    "\n",
    "1. Exportable Map Service Layer: Verify if the map service layer is exportable.\n",
    "2. Pre-approved Tile Layers: Check if the tile layers are from a pre-approved list that can be exported.\n",
    "3. Export Tiles Enabled: Ensure that vector tile or tile map service layers have export tiles enabled, as this is required for offline use.\n",
    "4. Multi Sourced Basemaps: Ensure that your basemap does not have more than one source\n",
    "5. Depcrecated Tile Base Maps URLs: Ensure you are not using basemaps with base url: `https://tiledbasemaps.arcgis.com/arcgis/rest/services`\n",
    "\n",
    "By performing these checks, we can ensure that the basemaps are properly configured and optimized for offline use."
   ]
  },
  {
   "cell_type": "code",
   "execution_count": 18,
   "metadata": {},
   "outputs": [],
   "source": [
    "def is_export_enabled_map_service_layer(basemaplayer) -> bool:\n",
    "    try:\n",
    "        msl = MapServiceLayer(basemaplayer[\"url\"])\n",
    "        return msl.properties.exportTilesAllowed\n",
    "    except Exception as e:\n",
    "        if \"Token Required (Error Code: 499)\" in str(e):\n",
    "            print(\"You must Proxy your basemap with AGOL\")\n",
    "            return False\n",
    "\n",
    "\n",
    "def is_exportable_agol_tile_layer(basemaplayer) -> bool:\n",
    "    lowercase_layer_url = basemaplayer[\"url\"].lower()\n",
    "    host_list = [\"server.arcgisonline.com\", \"services.arcgisonline.com\"]\n",
    "    has_allowed_host_name = any(\n",
    "        host_str in lowercase_layer_url for host_str in host_list\n",
    "    )\n",
    "    service_list = [\n",
    "        \"natgeo_world_map\",\n",
    "        \"ocean_basemap\",\n",
    "        \"usa_topo_maps\",\n",
    "        \"world_imagery\",\n",
    "        \"world_street_map\",\n",
    "        \"world_terrain_base\",\n",
    "        \"world_topo_map\",\n",
    "        \"world_hillshade\",\n",
    "        \"canvas/world_light_gray_base\",\n",
    "        \"canvas/world_light_gray_reference\",\n",
    "        \"canvas/world_dark_gray_base\",\n",
    "        \"canvas/world_dark_gray_reference\",\n",
    "        \"ocean/world_ocean_base\",\n",
    "        \"ocean/world_ocean_reference\",\n",
    "        \"reference/world_boundaries_and_places\",\n",
    "        \"reference/world_reference_overlay\",\n",
    "        \"reference/world_transportation\",\n",
    "    ]\n",
    "\n",
    "    has_exportable_agol_servicename = any(\n",
    "        service_name in lowercase_layer_url for service_name in service_list\n",
    "    )\n",
    "\n",
    "    return has_allowed_host_name and has_exportable_agol_servicename\n",
    "\n",
    "\n",
    "def is_export_enabled_vector_tile_layer(basemaplayer) -> bool:\n",
    "    try:\n",
    "        if \"itemId\" in basemaplayer:\n",
    "            vl_item = basemaplayer[\"itemId\"]\n",
    "            vtl = VectorTileLayer.fromitem(vl_item)\n",
    "            return vtl.properties.exportTilesAllowed\n",
    "        elif \"styleUrl\" in basemaplayer:\n",
    "            vtl = VectorTileLayer(basemaplayer[\"styleUrl\"])\n",
    "            vtl_source = VectorTileLayer(vtl.properties.sources.esri.url)\n",
    "            return vtl_source.properties.exportTilesAllowed\n",
    "    except Exception as e:\n",
    "        if \"Token Required (Error Code: 499)\" in str(e):\n",
    "            print(\"You must Proxy your basemap with AGOL\")\n",
    "            return False\n",
    "\n",
    "\n",
    "def is_export_enabled(layer) -> bool:\n",
    "    layer_type = layer[\"layerType\"]\n",
    "    if layer_type == \"ArcGISTiledMapServiceLayer\":\n",
    "        if is_export_enabled_map_service_layer(layer):\n",
    "            return True\n",
    "        if not is_exportable_agol_tile_layer(layer):\n",
    "            return False\n",
    "        return True\n",
    "\n",
    "    elif layer_type == \"VectorTileLayer\":\n",
    "        if not is_export_enabled_vector_tile_layer(layer):\n",
    "            return False\n",
    "        return True"
   ]
  },
  {
   "cell_type": "code",
   "execution_count": 19,
   "metadata": {},
   "outputs": [],
   "source": [
    "def is_map_multisource(basemaplayer) -> bool:\n",
    "    if \"styleUrl\" in basemaplayer:\n",
    "        vtl = VectorTileLayer(basemaplayer[\"styleUrl\"])\n",
    "        return len(vtl.properties.sources) > 1\n",
    "    return False"
   ]
  },
  {
   "cell_type": "code",
   "execution_count": 20,
   "metadata": {},
   "outputs": [],
   "source": [
    "deprecated_urls = [\n",
    "    \"https://tiledbasemaps.arcgis.com/arcgis/rest/services/NatGeo_World_Map/MapServer\",\n",
    "    \"https://tiledbasemaps.arcgis.com/arcgis/rest/services/USA_Topo_Maps/MapServer\",\n",
    "    \"https://tiledbasemaps.arcgis.com/arcgis/rest/services/Reference/World_Boundaries_and_Places/MapServer\",\n",
    "    \"https://tiledbasemaps.arcgis.com/arcgis/rest/services/Canvas/World_Dark_Gray_Base/MapServer\",\n",
    "    \"https://tiledbasemaps.arcgis.com/arcgis/rest/services/Canvas/World_Dark_Gray_Reference/MapServer\",\n",
    "    \"https://tiledbasemaps.arcgis.com/arcgis/rest/services/Canvas/World_Light_Gray_Base/MapServer\",\n",
    "    \"https://tiledbasemaps.arcgis.com/arcgis/rest/services/Canvas/World_Light_Gray_Reference/MapServer\",\n",
    "    \"https://tiledbasemaps.arcgis.com/arcgis/rest/services/Ocean/World_Ocean_Reference/MapServer\",\n",
    "    \"https://tiledbasemaps.arcgis.com/arcgis/rest/services/Reference/World_Reference_Overlay/MapServer\",\n",
    "    \"https://tiledbasemaps.arcgis.com/arcgis/rest/services/World_Street_Map/MapServer\",\n",
    "    \"https://tiledbasemaps.arcgis.com/arcgis/rest/services/World_Topo_Map/MapServer\",\n",
    "    \"https://tiledbasemaps.arcgis.com/arcgis/rest/services/Reference/World_Transportation/MapServer\",\n",
    "    \"https://tiledbasemaps.arcgis.com/arcgis/rest/services/World_Terrain_Base/MapServer\",\n",
    "]\n",
    "\n",
    "\n",
    "def is_deprecated_basemap_urls(basemap) -> bool:\n",
    "    if basemap[\"layerType\"] == \"ArcGISTiledMapServiceLayer\":\n",
    "        return basemap.get(\"url\") in deprecated_urls\n",
    "    return False"
   ]
  },
  {
   "cell_type": "code",
   "execution_count": 21,
   "metadata": {},
   "outputs": [],
   "source": [
    "def check_basemap(basemaps) -> str:\n",
    "    basemap_errors = []\n",
    "    for basemap in basemaps[\"baseMapLayers\"]:\n",
    "        basemap_title = basemap[\"title\"]\n",
    "        if not is_export_enabled(basemap):\n",
    "            basemap_errors.append(f\"{basemap_title} export tiles not enabled\")\n",
    "        else:\n",
    "            if is_map_multisource(basemap):\n",
    "                basemap_errors.append(f\"{basemap_title} is multisource\")\n",
    "            if is_deprecated_basemap_urls(basemap):\n",
    "                basemap_errors.append(f\"{basemap_title} is depcrecated\")\n",
    "    return basemap_errors"
   ]
  },
  {
   "cell_type": "markdown",
   "metadata": {},
   "source": [
    "#### Layer Checks for Offline Use\n",
    "##### In this section, we perform 8 essential checks to ensure that layers are suitable for offline use:\n",
    "\n",
    "1. Layer Type Support: Verify if the layer type is supported for offline use.\n",
    "2. Sync Enabled: Ensure that sync is enabled, as it is required for offline use.\n",
    "3. Supported Indices: Check if the layer's indices are supported, ensuring they do not contain + or -.\n",
    "4. Join View Check: Determine if the layer is a join view, as join view layers are not suitable for offline use.\n",
    "5. Global ID Presence: Verify if the layer has a global ID, as its absence can cause issues.\n",
    "6. Relationship Keywords: Check if relationship keywords are missing, which are necessary for certain functionalities.\n",
    "7. Subtype Fields: Ensure that subtype fields are present, as their absence can affect layer behavior.\n",
    "8. True Curve Updates: Confirm that True Curve Updates are set to true, as required.\n",
    "\n",
    "By performing these checks, we can ensure that the layers are properly configured and optimized for offline use."
   ]
  },
  {
   "cell_type": "code",
   "execution_count": 22,
   "metadata": {},
   "outputs": [],
   "source": [
    "def is_supported_layer_type(layer) -> bool:\n",
    "    if \"featureCollectionType\" in layer and (\n",
    "        layer[\"featureCollectionType\"] == \"route\"\n",
    "        or layer[\"featureCollectionType\"] == \"notes\"\n",
    "    ):\n",
    "        return False\n",
    "\n",
    "    layer_type = layer[\"layerType\"] if \"layerType\" in layer else layer.layerType\n",
    "    return layer_type in [\n",
    "        \"ArcGISFeatureLayer\",\n",
    "        \"GroupLayer\",\n",
    "        \"ArcGISImageServiceLayer\",\n",
    "        \"ArcGISTiledImageServiceLayer\",\n",
    "        \"ArcGISTiledMapServiceLayer\",\n",
    "        \"SubtypeGroupLayer\",\n",
    "        \"VectorTileLayer\",\n",
    "    ]"
   ]
  },
  {
   "cell_type": "code",
   "execution_count": 23,
   "metadata": {},
   "outputs": [],
   "source": [
    "def is_sync_enabled(layer) -> bool:\n",
    "    capabilities = layer.properties.capabilities.split(\",\")\n",
    "    if \"Sync\" in capabilities:\n",
    "        return True\n",
    "    else:\n",
    "        return False"
   ]
  },
  {
   "cell_type": "code",
   "execution_count": 24,
   "metadata": {},
   "outputs": [],
   "source": [
    "def is_supported_feature_layer_indices(layer) -> bool:\n",
    "    for index in layer.properties.indexes:\n",
    "        if \"+\" in index.name or \"-\" in index.name:\n",
    "            return False\n",
    "        else:\n",
    "            return True"
   ]
  },
  {
   "cell_type": "code",
   "execution_count": 25,
   "metadata": {},
   "outputs": [],
   "source": [
    "def is_join_view(layer) -> bool:\n",
    "    layer_properties = layer.properties\n",
    "    if \"isView\" in layer_properties and layer_properties[\"isView\"]:\n",
    "        if (\n",
    "            \"isMultiServicesView\" in layer_properties\n",
    "            and layer_properties[\"isMultiServicesView\"]\n",
    "        ):\n",
    "            return True\n",
    "    return False"
   ]
  },
  {
   "cell_type": "code",
   "execution_count": 26,
   "metadata": {},
   "outputs": [],
   "source": [
    "def is_global_id_missing(layer) -> bool:\n",
    "    layer_properties = layer.properties\n",
    "    if \"globalIdField\" in layer_properties:\n",
    "        return layer_properties[\"globalIdField\"] == \"\"\n",
    "    return False"
   ]
  },
  {
   "cell_type": "code",
   "execution_count": 27,
   "metadata": {},
   "outputs": [],
   "source": [
    "def is_relationship_missing(layer) -> bool:\n",
    "    layer_properties = layer.properties\n",
    "    layer_fields = layer.properties.fields\n",
    "    if (\n",
    "        \"relationships\" in layer_properties\n",
    "        and len(layer_properties[\"relationships\"]) > 0\n",
    "    ):\n",
    "        relationship_key = layer_properties[\"relationships\"][0][\"keyField\"].lower()\n",
    "        filtered_relationship_fields = [\n",
    "            field for field in layer_fields if relationship_key in field.name.lower()\n",
    "        ]\n",
    "        return len(filtered_relationship_fields) == 0\n",
    "    return False"
   ]
  },
  {
   "cell_type": "code",
   "execution_count": 28,
   "metadata": {},
   "outputs": [],
   "source": [
    "def is_subtype_missing(layer) -> bool:\n",
    "    layer_properties = layer.properties\n",
    "    layer_fields = layer.properties.fields\n",
    "    if \"subtypes\" in layer_properties and layer_properties[\"subtypes\"] is not None:\n",
    "        if (\n",
    "            len(layer_properties[\"subtypes\"]) > 0\n",
    "            or len(layer_properties[\"subtypeField\"]) > 0\n",
    "        ):\n",
    "            subtype_field = layer_properties[\"subtypeField\"].lower()\n",
    "            filtered_subtype_fields = [\n",
    "                field for field in layer_fields if subtype_field in field.name.lower()\n",
    "            ]\n",
    "            return len(filtered_subtype_fields) == 0\n",
    "    return False"
   ]
  },
  {
   "cell_type": "code",
   "execution_count": 29,
   "metadata": {},
   "outputs": [],
   "source": [
    "def is_true_curve_ready(layer) -> bool:\n",
    "    layer_properties = layer.properties\n",
    "    if (\n",
    "        \"allowTrueCurvesUpdates\" in layer_properties\n",
    "        and layer_properties[\"allowTrueCurvesUpdates\"] == True\n",
    "    ):\n",
    "        if (\n",
    "            \"onlyAllowTrueCurveUpdatesByTrueCurveClients\" in layer_properties\n",
    "            and layer_properties[\"onlyAllowTrueCurveUpdatesByTrueCurveClients\"] == True\n",
    "        ):\n",
    "            return False\n",
    "    if (\n",
    "        \"allowTrueCurvesUpdates\" in layer_properties\n",
    "        and layer_properties[\"allowTrueCurvesUpdates\"] == False\n",
    "    ):\n",
    "        if (\n",
    "            \"onlyAllowTrueCurveUpdatesByTrueCurveClients\" in layer_properties\n",
    "            and layer_properties[\"onlyAllowTrueCurveUpdatesByTrueCurveClients\"] == False\n",
    "        ):\n",
    "            return False\n",
    "    else:\n",
    "        return True"
   ]
  },
  {
   "cell_type": "code",
   "execution_count": 30,
   "metadata": {},
   "outputs": [],
   "source": [
    "def check_tile_vector_operational_layers(layer) -> bool:\n",
    "    if not is_export_enabled(layer):\n",
    "        return False\n",
    "    else:\n",
    "        if is_map_multisource(layer):\n",
    "            return False\n",
    "        if is_deprecated_basemap_urls(layer):\n",
    "            return False\n",
    "    return True"
   ]
  },
  {
   "cell_type": "markdown",
   "metadata": {},
   "source": [
    "#### Field Checks for Offline Use\n",
    "In this section, we perform essential checks to ensure that fields within layers are suitable for offline use:\n",
    "\n",
    "1. Field Type Support: Verify if the field type is supported. The following field types are not supported:\n",
    "\n",
    "        `esriFieldTypeBigInteger`\n",
    "\n",
    "        `esriFieldTypeDateOnly`\n",
    "\n",
    "        `esriFieldTypeTimeOnly`\n",
    "\n",
    "        `esriFieldTypeTimestampOffset` \n",
    "\n",
    "If any field has one of these types, it is not supported for offline use.\n",
    "\n",
    "2. Field Name Length: Ensure that the field name does not exceed 31 characters. Field names longer than 31 characters are not supported.\n",
    "3. Forbidden SQL Keywords: Check if the field name is a forbidden SQL keyword. Field names that are SQL keywords are not supported.\n",
    "\n",
    "By performing these checks, we can ensure that the fields within layers are properly configured and optimized for offline use."
   ]
  },
  {
   "cell_type": "code",
   "execution_count": 31,
   "metadata": {},
   "outputs": [],
   "source": [
    "forbidden_sql_keywords = [\n",
    "    \"add\",\n",
    "    \"all\",\n",
    "    \"alter\",\n",
    "    \"and\",\n",
    "    \"as\",\n",
    "    \"autoincrement\",\n",
    "    \"between\",\n",
    "    \"case\",\n",
    "    \"cast\",\n",
    "    \"check\",\n",
    "    \"collate\",\n",
    "    \"commit\",\n",
    "    \"constraint\",\n",
    "    \"create\",\n",
    "    \"default\",\n",
    "    \"deferrable\",\n",
    "    \"delete\",\n",
    "    \"distinct\",\n",
    "    \"drop\",\n",
    "    \"else\",\n",
    "    \"escape\",\n",
    "    \"except\",\n",
    "    \"exists\",\n",
    "    \"foreign\",\n",
    "    \"from\",\n",
    "    \"group\",\n",
    "    \"having\",\n",
    "    \"in\",\n",
    "    \"index\",\n",
    "    \"insert\",\n",
    "    \"intersect\",\n",
    "    \"into\",\n",
    "    \"is\",\n",
    "    \"isnull\",\n",
    "    \"join\",\n",
    "    \"limit\",\n",
    "    \"not\",\n",
    "    \"nothing\",\n",
    "    \"notnull\",\n",
    "    \"null\",\n",
    "    \"on\",\n",
    "    \"or\",\n",
    "    \"order\",\n",
    "    \"primary\",\n",
    "    \"raise\",\n",
    "    \"references\",\n",
    "    \"returning\",\n",
    "    \"select\",\n",
    "    \"set\",\n",
    "    \"table\",\n",
    "    \"then\",\n",
    "    \"to\",\n",
    "    \"transaction\",\n",
    "    \"union\",\n",
    "    \"unique\",\n",
    "    \"update\",\n",
    "    \"using\",\n",
    "    \"values\",\n",
    "    \"when\",\n",
    "    \"where\",\n",
    "]"
   ]
  },
  {
   "cell_type": "code",
   "execution_count": 32,
   "metadata": {},
   "outputs": [],
   "source": [
    "def is_supported_feature_layer_field(fields) -> bool:\n",
    "    for field in fields:\n",
    "        if field[\"type\"] in [\n",
    "            \"esriFieldTypeBigInteger\",\n",
    "            \"esriFieldTypeDateOnly\",\n",
    "            \"esriFieldTypeTimeOnly\",\n",
    "            \"esriFieldTypeTimestampOffset\",\n",
    "        ]:\n",
    "            return False\n",
    "\n",
    "        if len(field[\"name\"]) > 31:\n",
    "            return False\n",
    "\n",
    "        if field[\"name\"] in forbidden_sql_keywords:\n",
    "            return False\n",
    "        else:\n",
    "            return True"
   ]
  },
  {
   "cell_type": "markdown",
   "metadata": {},
   "source": [
    "#### Checking All Layers and Tables in Your Map\n",
    "\n",
    "##### In this step, we will call each of the layer and field check methods defined earlier to evaluate the suitability of the layers for offline use. \n",
    "\n",
    "The results of these checks will be recorded, and a list will be created to identify any errors.\n",
    "\n",
    "1. Invoke Layer and Field Checks: We systematically call each of the predefined layer and field check methods for every layer in the map.\n",
    "\n",
    "2. Record Results: The results of these checks are recorded, capturing both the boolean outcome and any associated messages.\n",
    "\n",
    "\n",
    "By following this process, we can efficiently identify and document any issues that need to be addressed to ensure the layers are suitable for offline use"
   ]
  },
  {
   "cell_type": "code",
   "execution_count": 33,
   "metadata": {},
   "outputs": [],
   "source": [
    "def check_layers(layers) -> str:\n",
    "    layer_errors = []\n",
    "    for op_layer in layers:\n",
    "        if not is_supported_layer_type(op_layer):\n",
    "            layer_errors.append(f\"Layer type not supported: {op_layer.title}\")\n",
    "            continue\n",
    "\n",
    "        elif op_layer[\"layerType\"] == \"ArcGISFeatureLayer\":\n",
    "            layer_url = op_layer[\"url\"] if \"url\" in op_layer else op_layer.url\n",
    "            layer_title = op_layer[\"title\"] if \"title\" in op_layer else op_layer.title\n",
    "            feature_layer = FeatureLayer(layer_url)\n",
    "            if not is_sync_enabled(feature_layer):\n",
    "                layer_errors.append(f\"{layer_title} is sync not enabled\")\n",
    "            if not is_supported_feature_layer_field(feature_layer.properties.fields):\n",
    "                layer_errors.append(f\"{layer_title} has field name errors\")\n",
    "            if not is_supported_feature_layer_indices(feature_layer):\n",
    "                layer_errors.append(f\"{layer_title} has unsupported layer indicies\")\n",
    "            if is_join_view(feature_layer):\n",
    "                layer_errors.append(f\"{layer_title} is a join view\")\n",
    "            if is_global_id_missing(feature_layer):\n",
    "                layer_errors.append(f\"{layer_title} has globalid missing\")\n",
    "            if is_relationship_missing(feature_layer):\n",
    "                layer_errors.append(\n",
    "                    f\"{layer_title} has missing relationship field names\"\n",
    "                )\n",
    "            if is_subtype_missing(feature_layer):\n",
    "                layer_errors.append(f\"{layer_title} has missing subtype field\")\n",
    "            if not is_true_curve_ready(feature_layer):\n",
    "                layer_errors.append(f\"{layer_title} is not true curve enabled\")\n",
    "            # add more tests here\n",
    "        elif op_layer[\"layerType\"] == \"GroupLayer\":\n",
    "            layer_errors.extend(check_layers(op_layer[\"layers\"]))\n",
    "        elif op_layer[\"layerType\"] in [\n",
    "            \"ArcGISImageServiceLayer\",\n",
    "            \"ArcGISTiledImageServiceLayer\",\n",
    "            \"ArcGISTiledMapServiceLayer\",\n",
    "            \"VectorTileLayer\",\n",
    "        ]:\n",
    "            if not check_tile_vector_operational_layers(op_layer):\n",
    "                layer_errors.append(\"Your operational tile layer has errors\")\n",
    "\n",
    "    layer_errors = list(dict.fromkeys(layer_errors))\n",
    "\n",
    "    return layer_errors"
   ]
  },
  {
   "cell_type": "code",
   "execution_count": 34,
   "metadata": {},
   "outputs": [],
   "source": [
    "def check_tables(tables, table_errors=[], table_urls=[]) -> str:\n",
    "    for op_table in tables:\n",
    "        if not is_supported_layer_type(op_table):\n",
    "            table_errors.append(f\"Layer type not supported: {op_table.title}\")\n",
    "            continue\n",
    "\n",
    "        elif op_table[\"layerType\"] == \"ArcGISFeatureLayer\":\n",
    "            table_url = op_table[\"url\"] if \"url\" in op_table else op_table.url\n",
    "            table_title = op_table[\"title\"] if \"title\" in op_table else op_table.title\n",
    "            table_urls.append(table_url)\n",
    "            feature_layer = FeatureLayer(table_url)\n",
    "            if not is_sync_enabled(feature_layer):\n",
    "                table_errors.append(f\"{table_title} is sync not enabled\")\n",
    "            if not is_supported_feature_layer_indices(feature_layer):\n",
    "                table_errors.append(f\"{table_title} has unsupported layer indicies\")\n",
    "            if not is_supported_feature_layer_field(feature_layer.properties.fields):\n",
    "                table_errors.append(f\"{table_title} has field name errors\")\n",
    "            if is_join_view(feature_layer):\n",
    "                table_errors.append(f\"{table_title} is a join view\")\n",
    "            if is_global_id_missing(feature_layer):\n",
    "                table_errors.append(f\"{table_title} has globalid missing\")\n",
    "            if is_relationship_missing(feature_layer):\n",
    "                table_errors.append(\n",
    "                    f\"{table_title} has missing relationship field names\"\n",
    "                )\n",
    "            if not is_true_curve_ready(feature_layer):\n",
    "                table_errors.append(f\"{table_title} is not true curve enabled\")\n",
    "            # add more tests here\n",
    "\n",
    "    table_errors = list(dict.fromkeys(table_errors))\n",
    "\n",
    "    return table_errors"
   ]
  },
  {
   "cell_type": "markdown",
   "metadata": {},
   "source": [
    "#### Map Checks\n",
    "\n",
    "The Map checks section checks if generic map properties are capable of going offline.\n",
    "These checks include if the map has the Offline Disabled type keyword in the map or if the map has any duplicate layers."
   ]
  },
  {
   "cell_type": "code",
   "execution_count": 35,
   "metadata": {},
   "outputs": [],
   "source": [
    "def check_offline_typekeyword(map) -> bool:\n",
    "    if \"OfflineDisabled\" in map.typeKeywords:\n",
    "        return False\n",
    "    if \"Offline\" in map.typeKeywords:\n",
    "        return True"
   ]
  },
  {
   "cell_type": "code",
   "execution_count": 36,
   "metadata": {},
   "outputs": [],
   "source": [
    "def map_has_duplicates(map) -> bool:\n",
    "    webmap_object = WebMap(map)\n",
    "    item_urls = set()\n",
    "    for layer in webmap_object.layers + webmap_object.tables:\n",
    "        if is_supported_layer_type(layer):\n",
    "            if layer[\"layerType\"] in [\"ArcGISFeatureLayer\", \"featureCollectionType\"]:\n",
    "                item_urls.add(layer[\"url\"] if \"url\" in layer else layer.url)\n",
    "            elif layer[\"layerType\"] == \"GroupLayer\":\n",
    "                for sub_layer in layer[\"layers\"]:\n",
    "                    item_urls.add(\n",
    "                        sub_layer[\"url\"] if \"url\" in sub_layer else sub_layer.url\n",
    "                    )\n",
    "    return len(item_urls) != len(webmap_object.layers + webmap_object.tables)"
   ]
  },
  {
   "cell_type": "code",
   "execution_count": 37,
   "metadata": {},
   "outputs": [],
   "source": [
    "def check_map(webmap) -> str:\n",
    "    map_errors = []\n",
    "    webmap_title = webmap.title\n",
    "    if not check_offline_typekeyword(webmap):\n",
    "        map_errors.append(f\"{webmap_title} is offline disabled\")\n",
    "    if map_has_duplicates(webmap):\n",
    "        map_errors.append(f\"{webmap_title} has duplicate layers\")\n",
    "    return map_errors"
   ]
  },
  {
   "cell_type": "markdown",
   "metadata": {},
   "source": [
    "#### Check WebMap Offline Compatability general method\n",
    "This method is designed to return to you what parts of your map has any errors in it -- layers, tables, basemap or the map itself"
   ]
  },
  {
   "cell_type": "code",
   "execution_count": 38,
   "metadata": {},
   "outputs": [],
   "source": [
    "def check_webmap_offline_compatability(webmap):\n",
    "    webmap_object = WebMap(webmap)\n",
    "    offline_compatibility = {\n",
    "        \"map\": [],\n",
    "        \"layers\": [],\n",
    "        \"tables\": [],\n",
    "        \"basemap\": [],\n",
    "        \"has_errors\": False,\n",
    "    }\n",
    "\n",
    "    offline_compatibility[\"map\"] = check_map(webmap)\n",
    "    offline_compatibility[\"layers\"] = check_layers(webmap_object.layers)\n",
    "    offline_compatibility[\"tables\"] = check_tables(webmap_object.tables)\n",
    "    offline_compatibility[\"basemap\"] = check_basemap(webmap_object.basemap)\n",
    "\n",
    "    if (\n",
    "        offline_compatibility[\"map\"]\n",
    "        or offline_compatibility[\"layers\"]\n",
    "        or offline_compatibility[\"tables\"]\n",
    "        or offline_compatibility[\"basemap\"]\n",
    "    ):\n",
    "        offline_compatibility[\"has_errors\"] = True\n",
    "\n",
    "    return offline_compatibility"
   ]
  },
  {
   "cell_type": "markdown",
   "metadata": {},
   "source": [
    "#### Lets see the results\n",
    "In section we call and use everything we have defined above. The layer or basemap that is preventing you from going offline will be printed below along with the appropriate error."
   ]
  },
  {
   "cell_type": "code",
   "execution_count": 39,
   "metadata": {},
   "outputs": [
    {
     "name": "stdout",
     "output_type": "stream",
     "text": [
      "map:\n",
      "  - offlinetest is offline disabled\n",
      "layers:\n",
      "  - Hydrants Just Subtype is sync not enabled\n",
      "  - Join Features to All_Layer_Errors_Offline_R2 view is sync not enabled\n",
      "  - Join Features to All_Layer_Errors_Offline_R2 view is a join view\n",
      "  - Join Features to All_Layer_Errors_Offline_R2 view has globalid missing\n",
      "  - Join Features to All_Layer_Errors_Offline_R2 view has missing subtype field\n",
      "tables:\n",
      "basemap:\n",
      "  - USA Topo Maps (for Export) export tiles not enabled\n"
     ]
    }
   ],
   "source": [
    "offline_compatability = check_webmap_offline_compatability(offline_map)\n",
    "if offline_compatability[\"has_errors\"]:\n",
    "    for key, values in offline_compatability.items():\n",
    "        if key != \"has_errors\":\n",
    "            print(f\"{key}:\")\n",
    "            for value in values:\n",
    "                print(f\"  - {value}\")\n",
    "else:\n",
    "    \"Your map is ready for offline!\""
   ]
  }
 ],
 "metadata": {
  "kernelspec": {
   "display_name": "field-maps-scripts-jc",
   "language": "python",
   "name": "python3"
  },
  "language_info": {
   "codemirror_mode": {
    "name": "ipython",
    "version": 3
   },
   "file_extension": ".py",
   "mimetype": "text/x-python",
   "name": "python",
   "nbconvert_exporter": "python",
   "pygments_lexer": "ipython3",
   "version": "3.11.11"
  }
 },
 "nbformat": 4,
 "nbformat_minor": 2
}
