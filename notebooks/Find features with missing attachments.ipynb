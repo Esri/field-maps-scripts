{
 "cells": [
  {
   "cell_type": "markdown",
   "metadata": {},
   "source": [
    "# Find features with missing attachments\n",
    "\n",
    "This example shows how to find all features in a feature layer that do not have an attached image. Features that are missing an image are added to a view layer so that crews can go out and re-inspect them."
   ]
  },
  {
   "cell_type": "markdown",
   "metadata": {},
   "source": [
    "#### Import the ArcGIS API for Python"
   ]
  },
  {
   "cell_type": "code",
   "execution_count": 1,
   "metadata": {},
   "outputs": [],
   "source": [
    "import arcgis"
   ]
  },
  {
   "cell_type": "markdown",
   "metadata": {},
   "source": [
    "#### Connect to ArcGIS Online and get the damage assessment layer and its view layer"
   ]
  },
  {
   "cell_type": "code",
   "execution_count": 2,
   "metadata": {},
   "outputs": [
    {
     "name": "stdout",
     "output_type": "stream",
     "text": [
      "Enter password: ········\n"
     ]
    }
   ],
   "source": [
    "gis = arcgis.gis.GIS(\"https://arcgis.com\", \"aaron_nitro\")\n",
    "damage_assessments_layer = gis.content.get('d46499afaa9142c0bd261478d329c027').layers[0]\n",
    "damage_assessments_view_layer = gis.content.get('d85d43a523f940079982a076c944405f').layers[2]"
   ]
  },
  {
   "cell_type": "markdown",
   "metadata": {},
   "source": [
    "#### Get all damage assessments performed in the last 10 days"
   ]
  },
  {
   "cell_type": "code",
   "execution_count": 3,
   "metadata": {},
   "outputs": [],
   "source": [
    "where = f\"{damage_assessments_layer.properties.editFieldsInfo.creationDateField} >= CURRENT_TIMESTAMP - INTERVAL '10' DAY\"\n",
    "damage_assessments = damage_assessments_layer.query(where=where)"
   ]
  },
  {
   "cell_type": "markdown",
   "metadata": {},
   "source": [
    "#### Create a set of all the globalids"
   ]
  },
  {
   "cell_type": "code",
   "execution_count": 4,
   "metadata": {},
   "outputs": [],
   "source": [
    "global_ids = {da.attributes[damage_assessments_layer.properties.globalIdField] for da in damage_assessments}"
   ]
  },
  {
   "cell_type": "markdown",
   "metadata": {},
   "source": [
    "#### Query all of the attachments collected within the last 10 days and create a set of their parent feature globalids"
   ]
  },
  {
   "cell_type": "code",
   "execution_count": 5,
   "metadata": {},
   "outputs": [],
   "source": [
    "attachments = damage_assessments_layer.attachments.search(where=where, attachment_types=['image/jpeg', 'image/jpg', 'image/png'])\n",
    "parent_global_ids = {x['PARENTGLOBALID'] for x in attachments}"
   ]
  },
  {
   "cell_type": "markdown",
   "metadata": {},
   "source": [
    "#### Find the globalids which do not overlap which indicates it's missing an attachment"
   ]
  },
  {
   "cell_type": "code",
   "execution_count": 6,
   "metadata": {},
   "outputs": [],
   "source": [
    "global_ids_without_an_image = global_ids.difference(parent_global_ids)"
   ]
  },
  {
   "cell_type": "markdown",
   "metadata": {},
   "source": [
    "#### Create a SQL where clause using the globalids"
   ]
  },
  {
   "cell_type": "code",
   "execution_count": 8,
   "metadata": {},
   "outputs": [
    {
     "data": {
      "text/plain": [
       "\"GlobalID in ('c4c03f20-fb04-47b3-88f6-80b6ad1d339b')\""
      ]
     },
     "execution_count": 8,
     "metadata": {},
     "output_type": "execute_result"
    }
   ],
   "source": [
    "where = f\"\"\"{damage_assessments_layer.properties.globalIdField} in ('{\",\".join(global_ids_without_an_image)}')\"\"\"\n",
    "where"
   ]
  },
  {
   "cell_type": "markdown",
   "metadata": {},
   "source": [
    "#### Update the view definition query of the view layer to only show features that are missing attachments"
   ]
  },
  {
   "cell_type": "code",
   "execution_count": 9,
   "metadata": {},
   "outputs": [
    {
     "data": {
      "text/plain": [
       "{'success': True}"
      ]
     },
     "execution_count": 9,
     "metadata": {},
     "output_type": "execute_result"
    }
   ],
   "source": [
    "damage_assessments_view_layer.manager.update_definition({\n",
    "    \"viewDefinitionQuery\": where\n",
    "})"
   ]
  }
 ],
 "metadata": {
  "kernelspec": {
   "display_name": "Python 3",
   "language": "python",
   "name": "python3"
  },
  "language_info": {
   "codemirror_mode": {
    "name": "ipython",
    "version": 3
   },
   "file_extension": ".py",
   "mimetype": "text/x-python",
   "name": "python",
   "nbconvert_exporter": "python",
   "pygments_lexer": "ipython3",
   "version": "3.8.6"
  }
 },
 "nbformat": 4,
 "nbformat_minor": 4
}
