{
 "cells": [
  {
   "cell_type": "markdown",
   "metadata": {
    "collapsed": true
   },
   "source": [
    "# Generate PDF Report\n",
    "\n",
    "This example shows how to generate an HTML and PDF report for a specific feature layer. It demonstrates how to create a report that includes summary statistics, photos, maps, and attribute information. In this example we are going to work with a tree inventory layer that was deployed using this [ArcGIS Solution template](https://www.arcgis.com/apps/solutions/index.html?gallery=true&searchTerm=Tree%20Management&solution=vrrh5yvnj1b8ba2tkfab6kf36c2t18np). \n",
    "\n",
    "This notebook was originally created as part of DevSummit 2021."
   ]
  },
  {
   "cell_type": "markdown",
   "metadata": {},
   "source": [
    "### Connect to our GIS\n",
    "This notebook uses the ArcGIS API for Python to interact with feature services. So let's import that library and then use it to connect to our GIS so we can fetch the layer containing the trees."
   ]
  },
  {
   "cell_type": "code",
   "execution_count": 1,
   "metadata": {},
   "outputs": [],
   "source": [
    "import arcgis"
   ]
  },
  {
   "cell_type": "markdown",
   "metadata": {},
   "source": [
    "In this example we are going to work with the Trees hosted feature layer that was deployed using this ArcGIS Solution template. Search for this layer in contents and copy and post the item id (found in the url) below where you see `<item-id>` "
   ]
  },
  {
   "cell_type": "code",
   "execution_count": null,
   "metadata": {},
   "outputs": [],
   "source": [
    "gis = arcgis.gis.GIS(\"https://www.arcgis.com\", \"<username>\")\n",
    "item = gis.content.get(\"<item-id>\")\n",
    "trees_layer = item.layers[0]"
   ]
  },
  {
   "cell_type": "markdown",
   "metadata": {},
   "source": [
    "### Generate summary statistics\n",
    "The report should contain some summary statistics about each type of tree. We are going to make a query to fetch, for each type of tree, the:\n",
    "- count\n",
    "- average height\n",
    "- average diameter"
   ]
  },
  {
   "cell_type": "code",
   "execution_count": 10,
   "metadata": {},
   "outputs": [],
   "source": [
    "statistics = trees_layer.query(\n",
    "    group_by_fields_for_statistics=\"COMMONNAME\",\n",
    "    out_statistics=[\n",
    "        {\n",
    "            \"statisticType\": \"count\",\n",
    "            \"onStatisticField\": \"COMMONNAME\",\n",
    "            \"outStatisticFieldName\": \"count\",\n",
    "        },\n",
    "        {\n",
    "            \"statisticType\": \"avg\",\n",
    "            \"onStatisticField\": \"HEIGHT\",\n",
    "            \"outStatisticFieldName\": \"avg_height\",\n",
    "        },\n",
    "        {\n",
    "            \"statisticType\": \"avg\",\n",
    "            \"onStatisticField\": \"DIAMETER\",\n",
    "            \"outStatisticFieldName\": \"avg_diameter\",\n",
    "        },\n",
    "    ],\n",
    ").features"
   ]
  },
  {
   "cell_type": "markdown",
   "metadata": {},
   "source": [
    "### Extract location information from image\n",
    "The following two functions detail how the EXIF data is parsed to find the latitude, longitude, and date of the photo. The coordinates are stored as Degrees Minutes Seconds in the EXIF data so an additional helper method is used to conver the coordinates to decimal degress."
   ]
  },
  {
   "cell_type": "code",
   "execution_count": 11,
   "metadata": {},
   "outputs": [],
   "source": [
    "from PIL import Image, ImageOps, ImageDraw, ImageFont, ExifTags\n",
    "import base64\n",
    "import io\n",
    "import json\n",
    "import datetime\n",
    "from PIL.ExifTags import GPSTAGS, TAGS\n",
    "%matplotlib agg\n",
    "import cartopy.crs as ccrs\n",
    "import matplotlib.pyplot as plt\n",
    "from cartopy.io.img_tiles import GoogleTiles\n",
    "from datetime import datetime as dt"
   ]
  },
  {
   "cell_type": "code",
   "execution_count": 12,
   "metadata": {},
   "outputs": [],
   "source": [
    "def get_location_data(exif_data):\n",
    "    gps_info = exif_data.get_ifd(ExifTags.IFD.GPSInfo)\n",
    "    time = dt.now()\n",
    "    try:\n",
    "\n",
    "        lat_degrees = gps_info[ExifTags.GPS.GPSLatitude][0]\n",
    "        lat_minutes = gps_info[ExifTags.GPS.GPSLatitude][1]\n",
    "        lat_seconds = gps_info[ExifTags.GPS.GPSLatitude][2]\n",
    "        lon_degrees = gps_info[ExifTags.GPS.GPSLongitude][0]\n",
    "        lon_minutes = gps_info[ExifTags.GPS.GPSLongitude][1]\n",
    "        lon_seconds = gps_info[ExifTags.GPS.GPSLongitude][2]\n",
    "\n",
    "        lat = float(lat_degrees + lat_minutes / 60 + lat_seconds / 3600)\n",
    "        lon = float(lon_degrees + lon_minutes / 60 + lon_seconds / 3600)\n",
    "\n",
    "        if gps_info[ExifTags.GPS.GPSLatitudeRef] == \"S\":\n",
    "            lat = -lat\n",
    "        if gps_info[ExifTags.GPS.GPSLongitudeRef] == \"W\":\n",
    "            lon = -lon\n",
    "        if ExifTags.GPS.GPSTimeStamp in gps_info:\n",
    "            time = gps_info[ExifTags.GPS.GPSTimeStamp]\n",
    "\n",
    "    except Exception as e:\n",
    "        lat = 0\n",
    "        lon = 0\n",
    "        time = dt.now()\n",
    "\n",
    "    return (lat, lon, time)"
   ]
  },
  {
   "cell_type": "markdown",
   "metadata": {},
   "source": [
    "### Process Attached Images\n",
    "The report is going to contain a list of all trees and any photos that were captured using ArcGIS Field Maps. Once an image has been downloaded, it's going to be processed using the following function. This fuction will read any EXIF data and orient the image accordingly so it appears correctly in the report. Then it is going to further examine the EXIF data to extract the location and time of when the photo was taken. It is going to overlay this information in the image and then return a base64 encoded version of the image the will be embedded in the report.\n",
    "\n",
    "To accomplish this, it uses the [Pillow](https://pillow.readthedocs.io/en/stable/) library which is a very popuplar image process library for Python."
   ]
  },
  {
   "cell_type": "code",
   "execution_count": 13,
   "metadata": {},
   "outputs": [],
   "source": [
    "def process_image(input_file):\n",
    "    image = Image.open(input_file)\n",
    "    image = ImageOps.exif_transpose(image)\n",
    "    lat, long, time = get_location_data(image.getexif())\n",
    "    image_editable = ImageDraw.Draw(image)\n",
    "    font = ImageFont.truetype(\"/Library/Fonts/Arial Unicode.ttf\", 24)\n",
    "    image_editable.text(\n",
    "        (1, 1),\n",
    "        f'{lat}, {long} at {time.strftime(\"%Y-%m-%d %H:%M:%S\")}',\n",
    "        (255, 255, 0),\n",
    "        font=font,\n",
    "    )\n",
    "    io_bytes = io.BytesIO()\n",
    "    image.save(io_bytes, format=\"JPEG\")\n",
    "    io_bytes.seek(0)\n",
    "    return base64.b64encode(io_bytes.read()).decode()"
   ]
  },
  {
   "cell_type": "markdown",
   "metadata": {},
   "source": [
    "### Generate a map image\n",
    "The report is also going to contain a small map for each tree to show where it is located. The [cartopy](https://scitools.org.uk/cartopy/docs/latest/) libary is used in conjunction with [matpotlib](https://matplotlib.org/) to generate a single image that plots the location on a map using the Esri World Street Map Tile service. The function returns a base64 encoded image that will be embedded into the report."
   ]
  },
  {
   "cell_type": "code",
   "execution_count": 14,
   "metadata": {},
   "outputs": [],
   "source": [
    "def create_map(feature):\n",
    "    fig = plt.figure(figsize=(5, 5))\n",
    "    url = \"https://server.arcgisonline.com/ArcGIS/rest/services/World_Street_Map/MapServer/tile/{z}/{y}/{x}.jpg\"\n",
    "    image = GoogleTiles(url=url)\n",
    "    ax = fig.add_subplot(1, 1, 1, projection=image.crs)\n",
    "    ax.add_image(image, 15)\n",
    "    xmin = feature[\"geometry\"][\"x\"] - 500\n",
    "    xmax = feature[\"geometry\"][\"x\"] + 500\n",
    "    ymin = feature[\"geometry\"][\"y\"] - 500\n",
    "    ymax = feature[\"geometry\"][\"y\"] + 500\n",
    "    ax.set_extent([xmin, xmax, ymin, ymax], crs=image.crs)\n",
    "    ax.scatter(\n",
    "        feature[\"geometry\"][\"x\"],\n",
    "        feature[\"geometry\"][\"y\"],\n",
    "        color=\"green\",\n",
    "        linewidth=2,\n",
    "        marker=\"o\",\n",
    "    )\n",
    "    io_bytes = io.BytesIO()\n",
    "    plt.savefig(io_bytes, format=\"jpeg\", bbox_inches=\"tight\")\n",
    "    io_bytes.seek(0)\n",
    "    return base64.b64encode(io_bytes.read()).decode()"
   ]
  },
  {
   "cell_type": "markdown",
   "metadata": {},
   "source": [
    "### Build a data model for each feature\n",
    "Now that we have our helper methods all in place, let's query all of the trees. For each tree, we are going to generate a map image to embed into the report. Then we are going to fetch all of the jpeg images associated with the tree. For each of those images, we are going to process it to extract and overlay the location. Each feature will now have a dictionary representing its geometry, a dictionary of its attributes, a list of base64 encoded attachments, and a single base64 encoded image of its location on a map."
   ]
  },
  {
   "cell_type": "code",
   "execution_count": 15,
   "metadata": {},
   "outputs": [],
   "source": [
    "trees = [f.as_dict for f in trees_layer.query(\"1=1\").features]\n",
    "for feature in trees:\n",
    "    feature[\"map\"] = create_map(feature)\n",
    "    attachments = trees_layer.attachments.search(\n",
    "        attachment_types=[\"image/jpeg\", \"image/jpg\"],\n",
    "        object_ids=[feature[\"attributes\"][\"OBJECTID\"]],\n",
    "    )\n",
    "    feature[\"attachments\"] = []\n",
    "    for a in attachments:\n",
    "        f = trees_layer.attachments.download(\n",
    "            oid=feature[\"attributes\"][\"OBJECTID\"], attachment_id=a[\"ID\"]\n",
    "        )[0]\n",
    "        image = process_image(f)\n",
    "        feature[\"attachments\"].append(image)"
   ]
  },
  {
   "cell_type": "markdown",
   "metadata": {},
   "source": [
    "### Generate the report\n",
    "In order to build the report, we are using a templating engine called [jinja2](https://jinja.palletsprojects.com/en/2.11.x/). This templating engine is very popular with various Python web frameworks like Flask. An html template file has been created and we are going to use jinja to substitute in our statistics and list of trees. This will result in a complete html string that could be served as a static webpage if desired. "
   ]
  },
  {
   "cell_type": "code",
   "execution_count": 16,
   "metadata": {},
   "outputs": [],
   "source": [
    "from jinja2 import Environment, FileSystemLoader\n",
    "\n",
    "env = Environment(loader=FileSystemLoader(\".\"))\n",
    "template = env.get_template(\"report-template.html\")\n",
    "template_variables = {\n",
    "    \"title\": item.title,\n",
    "    \"statistics\": [s.attributes for s in statistics],\n",
    "    \"features\": trees,\n",
    "}\n",
    "generated_html = template.render(template_variables)"
   ]
  },
  {
   "cell_type": "markdown",
   "metadata": {},
   "source": [
    "### Export to PDF\n",
    "Finally we are going to convert the html to a PDF file using [weasyprint](https://weasyprint.org/). After this completes you should be able to open the generated PDF and view your report."
   ]
  },
  {
   "cell_type": "code",
   "execution_count": 17,
   "metadata": {},
   "outputs": [],
   "source": [
    "from weasyprint import HTML"
   ]
  },
  {
   "cell_type": "code",
   "execution_count": 18,
   "metadata": {},
   "outputs": [],
   "source": [
    "HTML(string=generated_html).write_pdf(\"report.pdf\")"
   ]
  },
  {
   "cell_type": "markdown",
   "metadata": {},
   "source": [
    "### Summary\n",
    "This notebook demostrated how to build a custom PDF report by combining the ArcGIS API for Python, and a handful of other open-source tools. By using HTML as a conversion layer, it's very easy to tweak the content and style of the report."
   ]
  }
 ],
 "metadata": {
  "kernelspec": {
   "display_name": "field-maps-scripts-99999",
   "language": "python",
   "name": "python3"
  },
  "language_info": {
   "codemirror_mode": {
    "name": "ipython",
    "version": 3
   },
   "file_extension": ".py",
   "mimetype": "text/x-python",
   "name": "python",
   "nbconvert_exporter": "python",
   "pygments_lexer": "ipython3",
   "version": "3.11.11"
  }
 },
 "nbformat": 4,
 "nbformat_minor": 1
}
